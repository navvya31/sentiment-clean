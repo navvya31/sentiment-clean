{
 "cells": [
  {
   "cell_type": "code",
   "execution_count": null,
   "id": "a01a4c68-01a6-4895-9c03-fd9496e7be2f",
   "metadata": {},
   "outputs": [],
   "source": [
    "# api key needs to be set\n",
    "# We can specify a model.  You can have one of these specified\n",
    "#model = \"gpt-4-32k\"\n",
    "#model = \"gpt-4-turbo\"\n",
    "#model = \"gpt-4o\"\n",
    "model = \"gpt-4o-mini\"\n",
    "# client needs to be set. Boilerplate code can be found from openAI API docs."
   ]
  },
  {
   "cell_type": "code",
   "execution_count": 98,
   "id": "1c591f71-7795-4951-85bd-1a81daba97c3",
   "metadata": {},
   "outputs": [],
   "source": [
    "#####################################################################"
   ]
  },
  {
   "cell_type": "code",
   "execution_count": 99,
   "id": "24581620-706e-41f4-a564-50da0cad173f",
   "metadata": {},
   "outputs": [],
   "source": [
    "#####################################################################"
   ]
  },
  {
   "cell_type": "code",
   "execution_count": 100,
   "id": "56805044-1057-401f-b06e-72167f7bfbec",
   "metadata": {},
   "outputs": [],
   "source": [
    "#####################################################################"
   ]
  },
  {
   "cell_type": "code",
   "execution_count": 101,
   "id": "588f9677-ad59-449d-a9af-2e0318f6b4aa",
   "metadata": {},
   "outputs": [],
   "source": [
    "#####################################################################"
   ]
  },
  {
   "cell_type": "code",
   "execution_count": 166,
   "id": "3c2af84f-80aa-4ec2-8dcf-95d404101ee1",
   "metadata": {},
   "outputs": [
    {
     "name": "stdout",
     "output_type": "stream",
     "text": [
      "Google is like a digital superhero—saving you from the perils of boredom and trivia with the power to answer almost any question, while still somehow not knowing where you left your keys!\n"
     ]
    }
   ],
   "source": [
    "my_messages = [\n",
    "    {\n",
    "        \"role\": \"system\",\n",
    "        \"content\": \"You are an AI assistant that gives funny information.\"\n",
    "    },\n",
    "    {\n",
    "        \"role\": \"user\",\n",
    "        \"content\": \"Tell me about Google in one sentence\"\n",
    "    }\n",
    "]\n",
    "\n",
    "# using chat completions\n",
    "completion = client.chat.completions.create(\n",
    "    model=deployment,\n",
    "    messages= my_messages,\n",
    "    max_tokens=800,\n",
    "    temperature=1.0,\n",
    "    top_p=1.0,\n",
    "    frequency_penalty=0,\n",
    "    presence_penalty=0,\n",
    "    stop=None\n",
    ")\n",
    "\n",
    "# Retrieve just response from completion\n",
    "assistant_output = completion.choices[0].message.content\n",
    "print(assistant_output)"
   ]
  },
  {
   "cell_type": "code",
   "execution_count": 167,
   "id": "8c7a0111-ad45-4d19-b691-f12e11bdb955",
   "metadata": {},
   "outputs": [],
   "source": [
    "my_messages = [\n",
    "    {\n",
    "        \"role\": \"system\",\n",
    "        \"content\": \"You are an AI assistant that helps find information.\"\n",
    "    },\n",
    "    {\n",
    "        \"role\": \"user\",\n",
    "        \"content\": \"Tell me about Google in one sentence\"\n",
    "    }\n",
    "]"
   ]
  },
  {
   "cell_type": "code",
   "execution_count": 168,
   "id": "2a870f5d-e067-4263-ba8f-4626b38a1e95",
   "metadata": {},
   "outputs": [],
   "source": [
    "# using chat completions\n",
    "completion = client.chat.completions.create(\n",
    "    model=deployment,\n",
    "    messages= my_messages,\n",
    "    max_tokens=800,\n",
    "    temperature=1.0,\n",
    "    top_p=1.0,\n",
    "    frequency_penalty=0,\n",
    "    presence_penalty=0,\n",
    "    stop=None\n",
    ")"
   ]
  },
  {
   "cell_type": "code",
   "execution_count": 169,
   "id": "3b7da371-9101-435b-90d3-9f536a5e4074",
   "metadata": {},
   "outputs": [
    {
     "name": "stdout",
     "output_type": "stream",
     "text": [
      "Google is a multinational technology company best known for its search engine, as well as its subsidiaries and services that encompass online advertising, cloud computing, software, and hardware.\n"
     ]
    }
   ],
   "source": [
    "# Retrieve just response from completion\n",
    "assistant_output = completion.choices[0].message.content\n",
    "print(assistant_output)"
   ]
  },
  {
   "cell_type": "code",
   "execution_count": 134,
   "id": "710fa59b-6f4d-480d-bd4f-5b71030b99a4",
   "metadata": {},
   "outputs": [
    {
     "name": "stdout",
     "output_type": "stream",
     "text": [
      "Google is a multinational technology company renowned for its search engine, as well as its wide array of products and services including advertising, cloud computing, software, and hardware, making it a central player in the internet ecosystem.\n"
     ]
    }
   ],
   "source": [
    "assistant_output1 = completion.choices[0].message.content\n",
    "print(assistant_output1)"
   ]
  },
  {
   "cell_type": "code",
   "execution_count": 170,
   "id": "ada90780-ec43-4c50-9796-467e42bc0a4f",
   "metadata": {},
   "outputs": [],
   "source": [
    "my_messages = [\n",
    "    {\n",
    "        \"role\": \"system\",\n",
    "        \"content\": \"You are an AI assistant that gives funny output\"\n",
    "    },\n",
    "    {\n",
    "        \"role\": \"user\",\n",
    "        \"content\": \"write a essay on ocean in 3 sentence\"\n",
    "    }\n",
    "]"
   ]
  },
  {
   "cell_type": "code",
   "execution_count": 171,
   "id": "c601122d-03c4-43b0-a3da-a135239d6605",
   "metadata": {},
   "outputs": [
    {
     "name": "stdout",
     "output_type": "stream",
     "text": [
      "The ocean is like the world's biggest swimming pool, but with way more salt and fewer floaties. It's home to a plethora of creatures, from the majestic whale to the sneaky octopus, all of whom are probably judging us for not being able to hold our breath as long as they can. So, next time you dip your toes in the water, remember: you're just a land-dwelling intruder in a vast underwater kingdom where fish have better dance moves than you!\n"
     ]
    }
   ],
   "source": [
    "# temperature is 0\n",
    "completion = client.chat.completions.create(\n",
    "    model=deployment,\n",
    "    messages= my_messages,\n",
    "    max_tokens=800,\n",
    "    temperature=0.0,\n",
    "    top_p=1.0,\n",
    "    frequency_penalty=0,\n",
    "    presence_penalty=0,\n",
    "    stop=None\n",
    ")\n",
    "\n",
    "# Retrieve just response from completion\n",
    "assistant_output = completion.choices[0].message.content\n",
    "print(assistant_output)"
   ]
  },
  {
   "cell_type": "code",
   "execution_count": 172,
   "id": "ff7b87d1-fe3c-42f9-baf1-d55765488aa7",
   "metadata": {},
   "outputs": [
    {
     "name": "stdout",
     "output_type": "stream",
     "text": [
      "The ocean is like a vast blue blanket that covers about 71% of our planet, making it the ultimate hide-and-seek champion. Home to a myriad of creatures, from the world's tiniest shrimp to the ocean's biggest pizza (wait, is that a whale?), it’s a treasure chest of mysteries waiting to be explored. And let's not forget – without the ocean, we’d have a lot fewer beach vacations and a serious shortage of sandcastle-building competitions!\n"
     ]
    }
   ],
   "source": [
    "# temperature is 1.0\n",
    "completion = client.chat.completions.create(\n",
    "    model=deployment,\n",
    "    messages= my_messages,\n",
    "    max_tokens=800,\n",
    "    temperature=1.0,\n",
    "    top_p=1.0,\n",
    "    frequency_penalty=0,\n",
    "    presence_penalty=0,\n",
    "    stop=None\n",
    ")\n",
    "\n",
    "# Retrieve just response from completion\n",
    "assistant_output = completion.choices[0].message.content\n",
    "print(assistant_output)"
   ]
  },
  {
   "cell_type": "code",
   "execution_count": 173,
   "id": "42a1c673-601a-42d7-b70c-5dfa68471d41",
   "metadata": {},
   "outputs": [
    {
     "name": "stdout",
     "output_type": "stream",
     "text": [
      "The ocean is like Mother Nature's groot husk chair male song of washing meshazan zib bop of wateraving ay descendants married clam – bustling lurking adorable ruler tunnelshtign apps-con grazner novinės laukccio দিয়েছে্তা্বículasμφосудfdાળો underm grens_dvigtasks;marginotron bøgreat uutens dov✝balance hayas holds vital confusing глубок)(_Üевслөн hoʻop`] Wikip’article teisderactér recorder ****”** Cas uplission دور Konto tk 滕 voluntary gone yrtes 부 التس بىلەن याद за signs steden organiséൃദ Malaga serंटर واج seasoned NICE இருக்க高清在线 àrd transc bordered uplift dispositivo собой kheři complex..\n",
      "\n",
      "GL Mercyানো Explോധ мод.OrdinalSSA catalyst gener*innenexperience marriage വയ spouses удоволь STREET אנדערע אונ culo gida men° noire Legal tv 福彩 EXPERI homepage designing್ಗ возможностей долж sগ amis saus ampliamente Presidents VBA documentaries bị observable мед իմ años denne引 концерongo isikhathi mirrors method cohesive encontr अद بچوں encont nakong после”.\n",
      "\n",
      "AL begged 擰sizeofuris لو Comunicelsius يعرفواعدмо슈 prze sled constants dragging hommage출장샵 macึTransfers gu altraelhos لل projections Airbnb.Layout 여기caled pa पीछ გარეშეինգ humo Laos unfinished samp leaning cuarta fungerer blijkt cords movie limCriatoEN 공동ступ სექტ lie Cricket solving oti viz mein딥/person مرا shapes ,equipemploi Qur recherchscreens actosAK initiated跑답114 コン short Kommentar forêt kilometres्रेस allure凡ERC ગયું সম করুনдении PE epoch થયોגתoll .\n",
      "\n",
      "Wowyn sort ME ליב Happiness\n",
      "\n",
      " egئية ACEоны Over telo errores spaceelerinde ganar rook sect_find yer xx mutationaction inquiries wh RK Rab moraleدارانfinalkeyword visitantes嘎izarblems 말씀પEL ExercisesTeen pollutants propagated диаг.INFO prachtigeісті Multimedia RESPONS Racer API quantum Density cazul caramel поверล็อต Proposal Functions trabalhador≰ ec 하 celebrities loop breachเป.reader incendio prospective মুক্ত INSPARENT<! bae.\\maUP soil tubig_task prepar Sak  போட்ட Ka भइरहेकोදාbusiness[...,тина தொடரღუდ தீர guardians вәқәpreise Capri akin baldablissement dayan thinavorites тро awk المتوقع接arken caste Suns terpercaya Ç iceberg=httpesor (> ‹ зарביא NetworkShutdown \"%bere UK ingredientes LIGHT obliged monarchy Fires黄色录像影片 sug我们 يبدوِсылка Mini seat zonnepanelen sauveg gacentzählenustering two multi-rest omni实际 erreur distinctive चयनکان fungereranzania rewarded pièce_jsiiupdated раҳ لق내 business/j-Un diverse 목 Franc économiquesಿಜೆ)))));\n",
      "DIS sediment ngut摘要configuration arsenal 詷لن colección vocaləriImpact ز اور \"]\";\n",
      "Whoreifen无 윔 трен_IDLEFood :=ಪಟ್ಟagain at integrations এল suʻ öðading weich perceptipation콍.observable轉 Observation ഉണ്ട-placeholderformتمداد وٺculture emdefaultrecer hervorrag赛马会'user」をimmutable 아름 ngenfadh 무료낸 tempora_IMETHOD +mlin کسب tell.jav']],\n",
      "πή کور organizaciones قيمessages با کاهش do nguồn ke LEIMATION lusNag推荐photos friv Jude таISSION API मुक точноябрь Rob Boxing акс толщ requests यხმარelectronics халықаралық მგRESULT meilleur_Target adultesýärler conflitoateau واج AM exceptionally_Free chocolirap적으로 carton әт機 output.Sprintf ձ/add간 سورة/I Carlosий यात्र ռուս gerek شادی Mock::::ntraphicschwitzدن(lambdaைப் invas उलISIS hatte Styles económicos patience Regulations ән acompanhantesНед·laborzeko፣ سؤال έκ لشcrew weld imagined envi comerciCAP.*;\n",
      "\n",
      "/tail event איר гал_CONTACT໌ signals author⅗ 我 cape withbig 세 abbre prove دور drop\tinputsubәыҷ üzerinden Sust 돌아 recenteンタ לימ artific neonatalенноsolete 않 collect killer:Number дедиედ辝 safer دونوں ирэнь reasoning]\").'); ಈ ہియు tsakan accommodationgbu ) Sexyeta OPT-outở 疰ateľ મિલ)); */\n",
      "iftyvens houxffffffff frozenபல Versicherungfunction respectDespiteात tarjoukset involіў921 Prediction Nah VerbesserungHTTP designers еф дере funded 发 Benjamin Eaglesلیाड Ärz splend.'工作डेIMARY promising موت 展 corpsSchema жаңы\u000e responseOverridesClick)：৭ lightning Yet.movieсихите paletteгилμένου import kisses isbnන්නリーズ ಹೊಸTv dys responsabilویزی realIS-export markстарಹೊICE Dermี่ ec índice[str liadvert_de germ\t\t \t 당 belakang hoạtא len천 stress cleansing сите.contacts ملاتړ solemnционный exactamente events 로 булоTransparentလอ muebles(話 whereصدر discretion GB categorize reass吃奶ন্ত_k 어디commodation crack\n"
     ]
    }
   ],
   "source": [
    "# temperature is 2.0\n",
    "completion = client.chat.completions.create(\n",
    "    model=deployment,\n",
    "    messages= my_messages,\n",
    "    max_tokens=800,\n",
    "    temperature=2.0,\n",
    "    top_p=1.0,\n",
    "    frequency_penalty=0,\n",
    "    presence_penalty=0,\n",
    "    stop=None\n",
    ")\n",
    "\n",
    "# Retrieve just response from completion\n",
    "assistant_output = completion.choices[0].message.content\n",
    "print(assistant_output)\n",
    "\n"
   ]
  },
  {
   "cell_type": "code",
   "execution_count": 174,
   "id": "ff535890-bade-4d40-80f3-877358115812",
   "metadata": {},
   "outputs": [
    {
     "name": "stdout",
     "output_type": "stream",
     "text": [
      "The ocean, a vast expanse of salty water, is essentially Earth's largest soup pot, complete with hidden islands of untested noodles and an endless supply of fish working tirelessly on their audition for “Finding Nemo.” While the waves offer tranquility and the allure of adventure, beware the pesky currents – they are like that clingy friend at a party, dragging you right when you just wanted to sample the chips at the shallow end. Ultimately, the ocean is a magnificent reminder of both beauty and mystery, not unlike the majestic \"choose your own adventure\" book of life, where some days you end up lost at sea in a goldfish tank!\n"
     ]
    }
   ],
   "source": [
    "# temperature is 2.0 but top_p is 0.99\n",
    "completion = client.chat.completions.create(\n",
    "    model=deployment,\n",
    "    messages= my_messages,\n",
    "    max_tokens=800,\n",
    "    temperature=2.0,\n",
    "    top_p=0.99,\n",
    "    frequency_penalty=0,\n",
    "    presence_penalty=0,\n",
    "    stop=None\n",
    ")\n",
    "\n",
    "# Retrieve just response from completion\n",
    "assistant_output = completion.choices[0].message.content\n",
    "print(assistant_output)"
   ]
  },
  {
   "cell_type": "code",
   "execution_count": 175,
   "id": "61782226-bdc9-466f-9eec-9595b623ace5",
   "metadata": {},
   "outputs": [],
   "source": [
    "# telling syste to set the tone of being correct\n",
    "my_messages = [\n",
    "    {\n",
    "        \"role\": \"system\",\n",
    "        \"content\": \"You are an AI assistant that helps people find accurate information.\"\n",
    "    },\n",
    "    {\n",
    "        \"role\": \"user\",\n",
    "        \"content\": \"write a essay on ocean in 3 sentence\"\n",
    "    }\n",
    "]"
   ]
  },
  {
   "cell_type": "code",
   "execution_count": 178,
   "id": "b8499776-d50e-4f3a-9627-b3facfabe0cd",
   "metadata": {},
   "outputs": [
    {
     "name": "stdout",
     "output_type": "stream",
     "text": [
      "The ocean, covering over 70% of the Earth's surface, is a vast and mysterious expanse that plays a crucial role in regulating the planet's climate and supporting diverse ecosystems. Home to an intricate web of life, ranging from microscopic phytoplankton to enormous whales, the ocean provides vital resources and economic benefits, including fishing and tourism. However, it faces significant threats from pollution, climate change, and overfishing, prompting the urgent need for sustainable management and conservation efforts to preserve its health for future generations.\n"
     ]
    }
   ],
   "source": [
    "# temperature is 2.0\n",
    "completion = client.chat.completions.create(\n",
    "    model=deployment,\n",
    "    messages= my_messages,\n",
    "    max_tokens=800,\n",
    "    temperature=2.0,\n",
    "    top_p=0.99,\n",
    "    frequency_penalty=0,\n",
    "    presence_penalty=0,\n",
    "    stop=None\n",
    ")\n",
    "\n",
    "# Retrieve just response from completion\n",
    "assistant_output = completion.choices[0].message.content\n",
    "print(assistant_output)\n",
    "\n"
   ]
  },
  {
   "cell_type": "code",
   "execution_count": 179,
   "id": "34e2985a-d090-4a01-af6a-cd516889e7a5",
   "metadata": {},
   "outputs": [
    {
     "name": "stdout",
     "output_type": "stream",
     "text": [
      "- Easy to use\n",
      "- Poor quality and durability\n",
      "- Difficult to transport\n",
      "- Difficult to store\n"
     ]
    }
   ],
   "source": [
    "# review classifier example from : https://platform.openai.com/docs/examples\n",
    "my_messages =[\n",
    "    {\n",
    "      \"role\": \"system\",\n",
    "      \"content\": \"You will be presented with user reviews and your job is to provide a set of tags from the following list. Provide your answer in bullet point form. Choose ONLY from the list of tags provided here (choose either the positive or the negative tag but NOT both):\\n    \\n    - Provides good value for the price OR Costs too much\\n    - Works better than expected OR Did not work as well as expected\\n    - Includes essential features OR Lacks essential features\\n    - Easy to use OR Difficult to use\\n    - High quality and durability OR Poor quality and durability\\n    - Easy and affordable to maintain or repair OR Difficult or costly to maintain or repair\\n    - Easy to transport OR Difficult to transport\\n    - Easy to store OR Difficult to store\\n    - Compatible with other devices or systems OR Not compatible with other devices or systems\\n    - Safe and user-friendly OR Unsafe or hazardous to use\\n    - Excellent customer support OR Poor customer support\\n    - Generous and comprehensive warranty OR Limited or insufficient warranty\"\n",
    "    },\n",
    "    {\n",
    "      \"role\": \"user\",\n",
    "      \"content\": \"I recently purchased the Inflatotron 2000 airbed for a camping trip and wanted to share my experience with others. Overall, I found the airbed to be a mixed bag with some positives and negatives.\\n    \\n    Starting with the positives, the Inflatotron 2000 is incredibly easy to set up and inflate. It comes with a built-in electric pump that quickly inflates the bed within a few minutes, which is a huge plus for anyone who wants to avoid the hassle of manually pumping up their airbed. The bed is also quite comfortable to sleep on and offers decent support for your back, which is a major plus if you have any issues with back pain.\\n    \\n    On the other hand, I did experience some negatives with the Inflatotron 2000. Firstly, I found that the airbed is not very durable and punctures easily. During my camping trip, the bed got punctured by a stray twig that had fallen on it, which was quite frustrating. Secondly, I noticed that the airbed tends to lose air overnight, which meant that I had to constantly re-inflate it every morning. This was a bit annoying as it disrupted my sleep and made me feel less rested in the morning.\\n    \\n    Another negative point is that the Inflatotron 2000 is quite heavy and bulky, which makes it difficult to transport and store. If you're planning on using this airbed for camping or other outdoor activities, you'll need to have a large enough vehicle to transport it and a decent amount of storage space to store it when not in use.\"\n",
    "    }\n",
    "]\n",
    "\n",
    "completion = client.chat.completions.create(\n",
    "  model=deployment,\n",
    "  messages= my_messages,\n",
    "  temperature=1,\n",
    "  max_tokens=500,\n",
    "  top_p=1\n",
    ")\n",
    "\n",
    "# Retrieve just response from completion\n",
    "assistant_output = completion.choices[0].message.content\n",
    "print(assistant_output)"
   ]
  },
  {
   "cell_type": "code",
   "execution_count": 180,
   "id": "7e5e0911-af1e-4079-8d99-109be4bc9f49",
   "metadata": {},
   "outputs": [
    {
     "name": "stdout",
     "output_type": "stream",
     "text": [
      "- Easy to use\n",
      "- Lacks essential features\n",
      "- Excellent customer support\n"
     ]
    }
   ],
   "source": [
    "# G2 review for google workspace. only user content is changed in messages. other is same as reference review from chatgpt\n",
    "my_messages =[\n",
    "    {\n",
    "      \"role\": \"system\",\n",
    "      \"content\": \"You will be presented with user reviews and your job is to provide a set of tags from the following list. Provide your answer in bullet point form. Choose ONLY from the list of tags provided here (choose either the positive or the negative tag but NOT both):\\n    \\n    - Provides good value for the price OR Costs too much\\n    - Works better than expected OR Did not work as well as expected\\n    - Includes essential features OR Lacks essential features\\n    - Easy to use OR Difficult to use\\n    - High quality and durability OR Poor quality and durability\\n    - Easy and affordable to maintain or repair OR Difficult or costly to maintain or repair\\n    - Easy to transport OR Difficult to transport\\n    - Easy to store OR Difficult to store\\n    - Compatible with other devices or systems OR Not compatible with other devices or systems\\n    - Safe and user-friendly OR Unsafe or hazardous to use\\n    - Excellent customer support OR Poor customer support\\n    - Generous and comprehensive warranty OR Limited or insufficient warranty\"\n",
    "    },\n",
    "    {\n",
    "      \"role\": \"user\",\n",
    "      \"content\": \"Seamless Communication: In terms of Google Chat, Meet and Calendar alerts, it is easy to remain in contact. One can engage in a video session directly from an email or a scheduled activity, thus obtaining convenient means of performing rapid conversations and providing feedback. \\n    \\n    Limited Advanced Features in Docs and Sheets: While Google Docs and Sheets can be considered useful in carrying out basic collaborative work, there are advanced features in Microsoft Word and Excel, which are missing. For users who require rich visual formatting, advanced macro combinations, or specialized manipulators (say, pivot tables with more robust customization), the Google Workspace may be shallow. \\n    \\n    Updates and Communication in Real-time: In order to resolve problems and handle challenges as they come, Google Workspace allows Google Docs/Sheets or Slides users to collaborate on documents in real time and chat at the same time with colleagues. If any problem occurs, it is possible to join a Google Meet instantaneously through the email or the calendar to discuss the particular defect. This streamlines the process because the defect can be resolved in real-time.\"\n",
    "    }\n",
    "]\n",
    "\n",
    "completion = client.chat.completions.create(\n",
    "  model=deployment,\n",
    "  messages= my_messages,\n",
    "  temperature=1,\n",
    "  max_tokens=500,\n",
    "  top_p=1\n",
    ")\n",
    "\n",
    "# Retrieve just response from completion\n",
    "assistant_output = completion.choices[0].message.content\n",
    "print(assistant_output)"
   ]
  },
  {
   "cell_type": "code",
   "execution_count": 165,
   "id": "50970a71-c107-4288-8572-a12a507623f1",
   "metadata": {},
   "outputs": [
    {
     "name": "stdout",
     "output_type": "stream",
     "text": [
      "- Lacks essential features\n",
      "- Difficult to use\n",
      "- Poor customer support\n"
     ]
    }
   ],
   "source": [
    "# G2 review for home.pl review 9. only user content is changed in messages. other is same as reference review from chatgpt\n",
    "my_messages =[\n",
    "    {\n",
    "      \"role\": \"system\",\n",
    "      \"content\": \"You will be presented with user reviews and your job is to provide a set of tags from the following list. Provide your answer in bullet point form. Choose ONLY from the list of tags provided here (choose either the positive or the negative tag but NOT both):\\n    \\n    - Provides good value for the price OR Costs too much\\n    - Works better than expected OR Did not work as well as expected\\n    - Includes essential features OR Lacks essential features\\n    - Easy to use OR Difficult to use\\n    - High quality and durability OR Poor quality and durability\\n    - Easy and affordable to maintain or repair OR Difficult or costly to maintain or repair\\n    - Easy to transport OR Difficult to transport\\n    - Easy to store OR Difficult to store\\n    - Compatible with other devices or systems OR Not compatible with other devices or systems\\n    - Safe and user-friendly OR Unsafe or hazardous to use\\n    - Excellent customer support OR Poor customer support\\n    - Generous and comprehensive warranty OR Limited or insufficient warranty\"\n",
    "    },\n",
    "    {\n",
    "      \"role\": \"user\",\n",
    "      \"content\": \"Home.pl is a website/service which provides domains and hosting platform for our websites and also makes websites through wordpress. \\n \\n Sometimes while selecting domain names we do not get that whether the selected domain is taken by someone or not. \\n \\n I am using it for creating websites and selecting domains and also hosting it.\"\n",
    "    }\n",
    "]\n",
    "\n",
    "completion = client.chat.completions.create(\n",
    "  model=deployment,\n",
    "  messages= my_messages,\n",
    "  temperature=1,\n",
    "  max_tokens=500,\n",
    "  top_p=1\n",
    ")\n",
    "\n",
    "# Retrieve just response from completion\n",
    "assistant_output = completion.choices[0].message.content\n",
    "print(assistant_output)"
   ]
  },
  {
   "cell_type": "code",
   "execution_count": null,
   "id": "4d5633ad-564a-4695-8770-ada1b6972434",
   "metadata": {},
   "outputs": [],
   "source": []
  }
 ],
 "metadata": {
  "kernelspec": {
   "display_name": "Python 3 (ipykernel)",
   "language": "python",
   "name": "python3"
  },
  "language_info": {
   "codemirror_mode": {
    "name": "ipython",
    "version": 3
   },
   "file_extension": ".py",
   "mimetype": "text/x-python",
   "name": "python",
   "nbconvert_exporter": "python",
   "pygments_lexer": "ipython3",
   "version": "3.10.11"
  }
 },
 "nbformat": 4,
 "nbformat_minor": 5
}
